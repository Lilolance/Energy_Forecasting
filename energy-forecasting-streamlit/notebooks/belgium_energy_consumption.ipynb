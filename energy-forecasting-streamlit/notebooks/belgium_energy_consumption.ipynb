{
 "cells": [
  {
   "cell_type": "markdown",
   "metadata": {},
   "source": [
    "# Quarter-Hourly Energy Consumption Forecasting Belgium\n",
    "\n",
    "This notebook explores predictive modeling for quarter-hourly energy consumption in Belgium using various machine learning techniques. The goal is to forecast future values based on historical data."
   ]
  },
  {
   "cell_type": "code",
   "execution_count": 1,
   "metadata": {},
   "outputs": [],
   "source": [
    "import pandas as pd\n",
    "import numpy as np\n",
    "import matplotlib.pyplot as plt\n",
    "import seaborn as sns\n",
    "from src.data.loader import load_data\n",
    "from src.features.build_features import create_features\n",
    "from src.models.xgboost_model import train_xgboost\n",
    "from src.models.predict import make_predictions\n",
    "from src.visualization import plot_results\n",
    "\n",
    "# Set visualization style\n",
    "sns.set(style='whitegrid')"
   ]
  },
  {
   "cell_type": "code",
   "execution_count": 2,
   "metadata": {},
   "outputs": [],
   "source": [
    "# Load the dataset\n",
    "data = load_data()\n",
    "data.head()"
   ]
  },
  {
   "cell_type": "code",
   "execution_count": 3,
   "metadata": {},
   "outputs": [],
   "source": [
    "# Create features from the dataset\n",
    "features = create_features(data)\n",
    "features.head()"
   ]
  },
  {
   "cell_type": "code",
   "execution_count": 4,
   "metadata": {},
   "outputs": [],
   "source": [
    "# Train the XGBoost model\n",
    "start_date = '2015-01-01'  # Example start date\n",
    "model, train_mape, val_mape = train_xgboost(features, start_date)\n",
    "print(f'Training MAPE: {train_mape:.2f}%')\n",
    "print(f'Validation MAPE: {val_mape:.2f}%')"
   ]
  },
  {
   "cell_type": "code",
   "execution_count": 5,
   "metadata": {},
   "outputs": [],
   "source": [
    "# Make predictions on the test set\n",
    "predictions, test_mape = make_predictions(model, features)\n",
    "print(f'Test MAPE: {test_mape:.2f}%')"
   ]
  },
  {
   "cell_type": "code",
   "execution_count": 6,
   "metadata": {},
   "outputs": [],
   "source": [
    "# Plot the results\n",
    "plot_results(features['actual'], predictions)"
   ]
  }
 ],
 "metadata": {
  "kernelspec": {
   "display_name": "Python 3",
   "language": "python",
   "name": "python3"
  },
  "language_info": {
   "codemirror_mode": {
    "name": "ipython",
    "version": 3
   },
   "file_extension": ".py",
   "mimetype": "text/x-python",
   "name": "python",
   "nbconvert_exporter": "python",
   "pygments_lexer": "ipython3",
   "version": "3.8.5"
  }
 },
 "nbformat": 4,
 "nbformat_minor": 4
}